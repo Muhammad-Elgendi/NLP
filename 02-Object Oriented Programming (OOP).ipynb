{
 "cells": [
  {
   "cell_type": "markdown",
   "metadata": {
    "id": "z6Cvqzln1tvr"
   },
   "source": [
    "\n",
    "\n",
    "## update() in dictionaries\n",
    "The method update(dict2) adds dictionary dict2's key-values pairs in to dict. \n",
    "\n",
    "This function does not return anything.\n"
   ]
  },
  {
   "cell_type": "code",
   "execution_count": null,
   "metadata": {
    "id": "bQIp8XmEzdPq"
   },
   "outputs": [],
   "source": [
    "dict1 = {'Name': 'Zara', 'Year': 4}\n",
    "dict2 = {'grade': '67' }"
   ]
  },
  {
   "cell_type": "code",
   "execution_count": null,
   "metadata": {
    "colab": {
     "base_uri": "https://localhost:8080/",
     "height": 52
    },
    "id": "LrR03OZ53Ar-",
    "outputId": "673db138-9644-4c87-aa35-f9b10d66c43d"
   },
   "outputs": [
    {
     "data": {
      "application/vnd.google.colaboratory.intrinsic+json": {
       "type": "string"
      },
      "text/plain": [
       "'D.update([E, ]**F) -> None.  Update D from dict/iterable E and F.\\nIf E is present and has a .keys() method, then does:  for k in E: D[k] = E[k]\\nIf E is present and lacks a .keys() method, then does:  for k, v in E: D[k] = v\\nIn either case, this is followed by: for k in F:  D[k] = F[k]'"
      ]
     },
     "execution_count": 10,
     "metadata": {
      "tags": []
     },
     "output_type": "execute_result"
    }
   ],
   "source": [
    "dict1.update.__doc__"
   ]
  },
  {
   "cell_type": "code",
   "execution_count": null,
   "metadata": {
    "id": "vENU2Ggz1rTt"
   },
   "outputs": [],
   "source": [
    "dict1.update(dict2) "
   ]
  },
  {
   "cell_type": "code",
   "execution_count": null,
   "metadata": {
    "colab": {
     "base_uri": "https://localhost:8080/"
    },
    "id": "YRb-dQbk1sH8",
    "outputId": "13feab5f-430a-4adb-8d2a-e454363bc1c1"
   },
   "outputs": [
    {
     "data": {
      "text/plain": [
       "{'Name': 'Zara', 'Year': 4, 'grade': '67'}"
      ]
     },
     "execution_count": 3,
     "metadata": {
      "tags": []
     },
     "output_type": "execute_result"
    }
   ],
   "source": [
    "dict1"
   ]
  },
  {
   "cell_type": "code",
   "execution_count": null,
   "metadata": {
    "colab": {
     "base_uri": "https://localhost:8080/"
    },
    "id": "dU0L3QFa1sLb",
    "outputId": "937a9ce1-f1eb-4000-9198-dee5a23cd6c4"
   },
   "outputs": [
    {
     "data": {
      "text/plain": [
       "{'grade': '67'}"
      ]
     },
     "execution_count": 4,
     "metadata": {
      "tags": []
     },
     "output_type": "execute_result"
    }
   ],
   "source": [
    "dict2"
   ]
  },
  {
   "cell_type": "code",
   "execution_count": null,
   "metadata": {
    "id": "Q4UL5GqM1sPm"
   },
   "outputs": [],
   "source": [
    "dict1 = {'Name': 'Zara', 'Year': 4}\n",
    "dict2 = {'Name': 'Nageeb' }"
   ]
  },
  {
   "cell_type": "code",
   "execution_count": null,
   "metadata": {
    "id": "RLKlti0J1sSl"
   },
   "outputs": [],
   "source": [
    "dict1.update(dict2)"
   ]
  },
  {
   "cell_type": "code",
   "execution_count": null,
   "metadata": {
    "colab": {
     "base_uri": "https://localhost:8080/"
    },
    "id": "uVZIwWjK3AOo",
    "outputId": "fefafa70-7030-46ae-9056-9619b6e3ea6c"
   },
   "outputs": [
    {
     "data": {
      "text/plain": [
       "{'Name': 'Nageeb', 'Year': 4}"
      ]
     },
     "execution_count": 7,
     "metadata": {
      "tags": []
     },
     "output_type": "execute_result"
    }
   ],
   "source": [
    "dict1"
   ]
  },
  {
   "cell_type": "code",
   "execution_count": null,
   "metadata": {
    "colab": {
     "base_uri": "https://localhost:8080/"
    },
    "id": "QXdohSg33I2Q",
    "outputId": "2bec92d6-261f-48dd-e638-e35e8d66b9c6"
   },
   "outputs": [
    {
     "data": {
      "text/plain": [
       "{'Name': 'Nageeb'}"
      ]
     },
     "execution_count": 11,
     "metadata": {
      "tags": []
     },
     "output_type": "execute_result"
    }
   ],
   "source": [
    "dict2"
   ]
  },
  {
   "cell_type": "markdown",
   "metadata": {
    "id": "vU4d8ISZ35g4"
   },
   "source": [
    "## OOP concepts\n",
    "\n",
    "\n",
    "* Encapsulation\n",
    "* Abstraction\n",
    "* Inheritance\n",
    "* Polymorphism\n"
   ]
  },
  {
   "cell_type": "markdown",
   "metadata": {
    "id": "tyBaxmWd5veD"
   },
   "source": [
    "## Encapsulation\n",
    "### Method abstraction\n",
    "\n",
    "is achieved by separating the use of a method from its implementation. \n",
    "\n",
    "The client can use a method without knowing how it is implemented. The details of the implementation are encapsulated in the\n",
    "method and hidden from the client who invokes the method.\n",
    "\n",
    "This is also known as information\n",
    "hiding or encapsulation.\n",
    "\n",
    "If you decide to change the implementation, the client program will\n",
    "not be affected, provided that you do not change the method signature.\n",
    "\n",
    "The implementation of the method is hidden from the client in a “black box”\n",
    "\n",
    "### Data Field Encapsulation\n",
    "Making data fields private protects data and makes the class easy to maintain.\n",
    "\n",
    "To prevent direct modifications of data fields, you should declare the data fields private,\n",
    "using the private modifier. This is known as data field encapsulation.\n",
    "\n",
    "### Class Abstraction and Encapsulation\n",
    "Class abstraction is the separation of class implementation from the use of a class.\n",
    "\n",
    "The details of implementation are encapsulated and hidden from the user. This is\n",
    "known as class encapsulation.\n",
    " \n",
    "For example, you can create a\n",
    "Circle object and find the area of the circle without knowing how the area is computed. For\n",
    "this reason, a class is also known as an abstract data type (ADT).\n",
    "\n",
    "\n"
   ]
  },
  {
   "cell_type": "markdown",
   "metadata": {
    "id": "gTfa32BD8QU1"
   },
   "source": [
    "## Abstraction\n",
    "Abstraction is the concept of object-oriented programming that \"shows\" only essential attributes and \"hides\" unnecessary information.\n",
    "\n",
    "The main purpose of abstraction is hiding the unnecessary details from the users.\n",
    " \n",
    "Abstraction is selecting data from a larger pool to show only relevant details of the object to the user. It helps in reducing programming complexity and efforts."
   ]
  },
  {
   "cell_type": "markdown",
   "metadata": {
    "id": "Fq96FwsU8_6j"
   },
   "source": [
    "## Abstraction vs Encapsulation\n",
    "See The following Table at (https://eng.libretexts.org/Courses/Delta_College/C_-_Data_Structures/06%3A_Abstraction_Encapsulation/1.01%3A_Difference_between_Abstraction_and_Encapsulation) "
   ]
  },
  {
   "cell_type": "markdown",
   "metadata": {
    "id": "GzWzke7Q_Ju1"
   },
   "source": [
    "### Class Relationships\n",
    "To design classes, you need to explore the relationships among classes. \n",
    "\n",
    "#### The common relationships among classes are **association**, **aggregation**, **composition**, and **inheritance**.\n",
    "\n",
    "#### Association\n",
    "\n",
    " is a general binary relationship that describes an activity between two classes.\n",
    "\n",
    "For example, a student taking a course is an association between the Student class and the\n",
    "Course class,\n",
    "\n",
    " and a faculty member teaching a course is an association between the Faculty\n",
    "class and the Course class.\n",
    "\n",
    "#### Multiplicity\n",
    "\n",
    "Each class involved in an association may specify a multiplicity, which is placed at the\n",
    "side of the class to specify how many of the class’s objects are involved in the relationship\n",
    "in UML.\n",
    "\n",
    "See figure 10.4 in Introduction to Java Programming, Comprehensive Version, 10th Edition- Y. Daniel Liang\n",
    "\n",
    "#### you can implement **associations** by using data fields and methods.\n",
    "\n",
    " “a student takes a course” is implemented using the addCourse method in the Student class and the addStudent method in the Course class. \n",
    "\n",
    "“a faculty teaches a course” is implemented using the addCourse method in the Faculty class and the setFaculty method in the Course class.\n",
    "\n",
    "The Student class may use a list to store the courses that the student is taking, \n",
    "\n",
    "the Faculty class may use a list to store the courses that the faculty\n",
    "is teaching,\n",
    "\n",
    "and the Course class may use a list to store students enrolled in the course and a data field to store the instructor who teaches the course.\n",
    "\n",
    "See figure 10.5 in Introduction to Java Programming, Comprehensive Version, 10th Edition- Y. Daniel Liang"
   ]
  },
  {
   "cell_type": "markdown",
   "metadata": {
    "id": "UYElROdRDdpA"
   },
   "source": [
    "### Aggregation\n",
    "Aggregation is a special form of association that represents an ownership relationship between\n",
    "two objects. Aggregation models has-a relationships. The owner object is called an aggregating\n",
    "object, and its class is called an aggregating class. The subject object is called an aggregated\n",
    "object, and its class is called an aggregated class.\n",
    "\n",
    "### Composition\n",
    "An object can be owned by several other aggregating objects. \n",
    "\n",
    "If an object is **exclusively owned by an aggregating object**, the relationship between the object and its aggregating object is referred to as a **composition**. \n",
    "\n",
    "For example, “a student has a name” is a composition relation-\n",
    "ship between the Student class and the Name class, whereas “a student has an address” is an\n",
    "aggregation relationship between the Student class and the Address class, since an address\n",
    "can be shared by several students.\n",
    "\n",
    "See figure 10.6 in Introduction to Java Programming, Comprehensive Version, 10th Edition book by Y. Daniel Liang"
   ]
  },
  {
   "cell_type": "markdown",
   "metadata": {
    "id": "oay7f0C1LvjG"
   },
   "source": [
    "An aggregation relationship is usually represented as a data field in the aggregating class.\n",
    "\n",
    "See figure 10.7 in Introduction to Java Programming, Comprehensive Version, 10th Edition- Y. Daniel Liang\n",
    "\n",
    "Aggregation may exist between objects of the same class\n",
    "\n"
   ]
  },
  {
   "cell_type": "markdown",
   "metadata": {
    "id": "yK3velKiMYdD"
   },
   "source": [
    "See figures 10.8 and 10.9 in Introduction to Java Programming, Comprehensive Version, 10th Edition book by Y. Daniel Liang"
   ]
  },
  {
   "cell_type": "markdown",
   "metadata": {
    "id": "IdF2hdjR-SJE"
   },
   "source": [
    "## Inheritance\n",
    "Object-oriented programming concept that allows you to define new classes from existing classes.\n",
    "\n",
    "### Why using it ?\n",
    "\n",
    "Inheritance is an important and powerful feature for reusing software. Suppose you need\n",
    "to define classes to model circles, rectangles, and triangles. These classes have many common\n",
    "features. What is the best way to design these classes so as to avoid redundancy and make the\n",
    "system easy to comprehend and easy to maintain? The answer is to use inheritance.\n",
    "\n",
    "#### Inheritance enables you to define a general class (i.e., a superclass) and later extend it to more specialized classes (i.e., subclasses).\n",
    "\n"
   ]
  },
  {
   "cell_type": "markdown",
   "metadata": {
    "id": "r13_YhUaMWMJ"
   },
   "source": [
    "See figure 11.1 in Introduction to Java Programming, Comprehensive Version, 10th Edition book by Y. Daniel Liang"
   ]
  },
  {
   "cell_type": "markdown",
   "metadata": {
    "id": "LrD_jmlGNtDV"
   },
   "source": [
    "## Polymorphism\n",
    " means that a variable of a supertype can refer to a subtype object. \n",
    "  \n",
    "An object of a subclass can be used wherever its superclass object is used. This is commonly known as polymorphism (from a Greek word meaning “many forms”).\n",
    "\n",
    "In simple terms, polymorphism\n",
    "means that a variable of a supertype can refer to a subtype object.\n"
   ]
  },
  {
   "cell_type": "code",
   "execution_count": 1,
   "metadata": {
    "id": "Qucb3zAE3teW"
   },
   "outputs": [],
   "source": [
    "# Now go and see \"Overview of OOP Terminology\" in the attached pdf\n",
    "# or visit https://www.tutorialspoint.com/python/python_classes_objects.htm"
   ]
  },
  {
   "cell_type": "markdown",
   "metadata": {},
   "source": [
    "## **Read more!** [Overview of OOP Terminology](https://www.tutorialspoint.com/python/python_classes_objects.htm)"
   ]
  },
  {
   "cell_type": "markdown",
   "metadata": {
    "id": "XhS3jGK1PuLE"
   },
   "source": [
    "# OOP in Python"
   ]
  },
  {
   "cell_type": "code",
   "execution_count": null,
   "metadata": {
    "id": "A48dxhgn34eM"
   },
   "outputs": [],
   "source": [
    "class Employee:\n",
    "  'Common base class for all employees'\n",
    "\n",
    "  # empCount is a class variable whose value is shared among all instances\n",
    "  # of a this class. This can be accessed as Employee.empCount from inside the class or\n",
    "  # outside the class. (static variable)\n",
    "  empCount = 0\n",
    "\n",
    "  # __init__() class constructor or initialization method that \n",
    "  # Python calls when you create a new instance of this class.\n",
    "  def __init__(self, name, salary):\n",
    "    self.name = name\n",
    "    self.salary = salary\n",
    "    Employee.empCount += 1\n",
    "\n",
    "  # other class methods like normal functions with the exception that the first\n",
    "  # argument to each method is self. Python adds the self argument to the list for you; you\n",
    "  # do not need to include it when you call the methods.\n",
    "  def displayCount(self):\n",
    "    print(\"Total Employee %d\" % Employee.empCount)\n",
    "\n",
    "  def displayEmployee(self):\n",
    "    print(\"Name : \", self.name,\", Salary: \", self.salary)"
   ]
  },
  {
   "cell_type": "code",
   "execution_count": null,
   "metadata": {
    "colab": {
     "base_uri": "https://localhost:8080/",
     "height": 35
    },
    "id": "N5-erfpCP0pH",
    "outputId": "ddb44e66-9256-42ad-f305-9a2c5a7a790f"
   },
   "outputs": [
    {
     "data": {
      "application/vnd.google.colaboratory.intrinsic+json": {
       "type": "string"
      },
      "text/plain": [
       "'Common base class for all employees'"
      ]
     },
     "execution_count": 19,
     "metadata": {
      "tags": []
     },
     "output_type": "execute_result"
    }
   ],
   "source": [
    "Employee.__doc__"
   ]
  },
  {
   "cell_type": "code",
   "execution_count": null,
   "metadata": {
    "id": "-CVYRLdtP7V9"
   },
   "outputs": [],
   "source": [
    "# Creating Instance Objects"
   ]
  },
  {
   "cell_type": "code",
   "execution_count": null,
   "metadata": {
    "id": "llb-clURRMnA"
   },
   "outputs": [],
   "source": [
    "emp1 = Employee(\"Zara\", 2000)"
   ]
  },
  {
   "cell_type": "code",
   "execution_count": null,
   "metadata": {
    "id": "2GL807g5RSst"
   },
   "outputs": [],
   "source": [
    "emp2 = Employee(\"Manni\", 5000)"
   ]
  },
  {
   "cell_type": "code",
   "execution_count": null,
   "metadata": {
    "id": "umrsoDNnRVZ-"
   },
   "outputs": [],
   "source": [
    "# Accessing Attributes"
   ]
  },
  {
   "cell_type": "code",
   "execution_count": null,
   "metadata": {
    "colab": {
     "base_uri": "https://localhost:8080/"
    },
    "id": "kV9N3TH9RbR9",
    "outputId": "a9958add-8772-4f56-d7ee-c5c1f9d9e6a9"
   },
   "outputs": [
    {
     "name": "stdout",
     "output_type": "stream",
     "text": [
      "Name :  Zara , Salary:  2000\n",
      "Name :  Manni , Salary:  5000\n",
      "Total Employee 2\n"
     ]
    }
   ],
   "source": [
    "emp1.displayEmployee()\n",
    "emp2.displayEmployee()\n",
    "print(\"Total Employee %d\" % Employee.empCount)"
   ]
  },
  {
   "cell_type": "markdown",
   "metadata": {
    "id": "AkoehSkBRwys"
   },
   "source": [
    "## Instead of using the normal statements to access attributes, you can use the following functions\n",
    "* getattr(obj, name[, default]) − to access the attribute of object.\n",
    "* hasattr(obj,name) − to check if an attribute exists or not.\n",
    "* setattr(obj,name,value) − to set an attribute. If attribute does not exist, then it would be created.\n",
    "* delattr(obj, name) − to delete an attribute."
   ]
  },
  {
   "cell_type": "code",
   "execution_count": null,
   "metadata": {
    "id": "ZmKLq-z9Rqhk"
   },
   "outputs": [],
   "source": [
    "# Returns true if 'salary' attribute exists\n",
    "hasattr(emp1, 'salary') \n",
    "# Returns value of 'salary' attribute\n",
    "getattr(emp1, 'salary')\n",
    "# Set attribute 'salary' at 8000\n",
    "setattr(emp2, 'salary', 8000)\n",
    "# Delete attribute 'salary'\n",
    "delattr(emp2, 'salary')"
   ]
  },
  {
   "cell_type": "code",
   "execution_count": null,
   "metadata": {
    "colab": {
     "base_uri": "https://localhost:8080/"
    },
    "id": "80HT3bQ6RgmT",
    "outputId": "214b4902-dfc6-4d38-ffd3-40f6ec8967a0"
   },
   "outputs": [
    {
     "data": {
      "text/plain": [
       "False"
      ]
     },
     "execution_count": 31,
     "metadata": {
      "tags": []
     },
     "output_type": "execute_result"
    }
   ],
   "source": [
    "hasattr(emp2, 'salary') "
   ]
  },
  {
   "cell_type": "code",
   "execution_count": 3,
   "metadata": {
    "id": "6HiX6-sSSNUW"
   },
   "outputs": [],
   "source": [
    "# go see \"Built-In Class Attributes\" in the attached pdf"
   ]
  },
  {
   "cell_type": "markdown",
   "metadata": {},
   "source": [
    "## **Read more!** [Built-In Class Attributes](https://www.tutorialspoint.com/python/python_classes_objects.htm)"
   ]
  },
  {
   "cell_type": "code",
   "execution_count": null,
   "metadata": {
    "colab": {
     "base_uri": "https://localhost:8080/"
    },
    "id": "lJQwnyNITKih",
    "outputId": "0cea169f-37b3-4f91-a0fa-e8b0be6140d8"
   },
   "outputs": [
    {
     "name": "stdout",
     "output_type": "stream",
     "text": [
      "Employee.__doc__: Common base class for all employees\n",
      "Employee.__name__: Employee\n",
      "Employee.__module__: __main__\n",
      "Employee.__bases__: (<class 'object'>,)\n",
      "Employee.__dict__: {'__module__': '__main__', '__doc__': 'Common base class for all employees', 'empCount': 2, '__init__': <function Employee.__init__ at 0x7f3a65d853b0>, 'displayCount': <function Employee.displayCount at 0x7f3a65d85c20>, 'displayEmployee': <function Employee.displayEmployee at 0x7f3a65d85680>, '__dict__': <attribute '__dict__' of 'Employee' objects>, '__weakref__': <attribute '__weakref__' of 'Employee' objects>}\n"
     ]
    }
   ],
   "source": [
    "print(\"Employee.__doc__:\", Employee.__doc__)\n",
    "print(\"Employee.__name__:\", Employee.__name__)\n",
    "print(\"Employee.__module__:\", Employee.__module__)\n",
    "print(\"Employee.__bases__:\", Employee.__bases__)\n",
    "print(\"Employee.__dict__:\", Employee.__dict__)"
   ]
  },
  {
   "cell_type": "code",
   "execution_count": null,
   "metadata": {
    "id": "-vuPkhmXaCth"
   },
   "outputs": [],
   "source": [
    "# Garbage Collection\n",
    "\n",
    "a = 40      # Create object <40>\n",
    "b = a       # Increase ref. count  of <40> \n",
    "c = [b]     # Increase ref. count  of <40> \n",
    "\n",
    "del a       # Decrease ref. count  of <40>\n",
    "b = 100     # Decrease ref. count  of <40> \n",
    "c[0] = -1   # Decrease ref. count  of <40> "
   ]
  },
  {
   "cell_type": "code",
   "execution_count": null,
   "metadata": {
    "colab": {
     "base_uri": "https://localhost:8080/"
    },
    "id": "xb1G871pbxzF",
    "outputId": "1bd7f298-c774-4ce7-fa13-a63a32f56b5e"
   },
   "outputs": [
    {
     "name": "stdout",
     "output_type": "stream",
     "text": [
      "139888890331920 139888890331920 139888890331920\n",
      "Point destroyed\n"
     ]
    }
   ],
   "source": [
    "class Point:\n",
    "   def __init__( self, x=0, y=0):\n",
    "      self.x = x\n",
    "      self.y = y\n",
    "   def __del__(self):\n",
    "      class_name = self.__class__.__name__\n",
    "      print (class_name, \"destroyed\")\n",
    "\n",
    "pt1 = Point()\n",
    "pt2 = pt1\n",
    "pt3 = pt1\n",
    "print(id(pt1), id(pt2), id(pt3)) # prints the ids of the obejcts\n",
    "del pt1\n",
    "del pt2\n",
    "del pt3"
   ]
  },
  {
   "cell_type": "code",
   "execution_count": null,
   "metadata": {
    "colab": {
     "base_uri": "https://localhost:8080/",
     "height": 35
    },
    "id": "OS3xmUKmcI8z",
    "outputId": "aefdad2b-c1e1-4ec1-e996-3d21f4049f4f"
   },
   "outputs": [
    {
     "data": {
      "application/vnd.google.colaboratory.intrinsic+json": {
       "type": "string"
      },
      "text/plain": [
       "'class SubClassName (ParentClass1[, ParentClass2, ...]):'"
      ]
     },
     "execution_count": 44,
     "metadata": {
      "tags": []
     },
     "output_type": "execute_result"
    }
   ],
   "source": [
    "# Inheritance\n",
    "# Python support multiple inheritance \n",
    "'''class SubClassName (ParentClass1[, ParentClass2, ...]):'''"
   ]
  },
  {
   "cell_type": "code",
   "execution_count": null,
   "metadata": {
    "colab": {
     "base_uri": "https://localhost:8080/",
     "height": 35
    },
    "id": "izBGizascz6p",
    "outputId": "2e32428a-3f39-4c8e-b88a-f3de673bdb58"
   },
   "outputs": [
    {
     "data": {
      "application/vnd.google.colaboratory.intrinsic+json": {
       "type": "string"
      },
      "text/plain": [
       "'\\nclass A:        # define your class A\\n.....\\n\\nclass B:         # define your class B\\n.....\\n\\nclass C(A, B):   # subclass of A and B\\n.....\\n'"
      ]
     },
     "execution_count": 45,
     "metadata": {
      "tags": []
     },
     "output_type": "execute_result"
    }
   ],
   "source": [
    "'''\n",
    "class A:        # define your class A\n",
    ".....\n",
    "\n",
    "class B:         # define your class B\n",
    ".....\n",
    "\n",
    "class C(A, B):   # subclass of A and B\n",
    ".....\n",
    "'''"
   ]
  },
  {
   "cell_type": "code",
   "execution_count": null,
   "metadata": {
    "colab": {
     "base_uri": "https://localhost:8080/"
    },
    "id": "q0HXLWKmc3lz",
    "outputId": "cdb95832-95be-4f9e-9f82-c02bd89cd9a7"
   },
   "outputs": [
    {
     "name": "stdout",
     "output_type": "stream",
     "text": [
      "Calling child constructor\n",
      "Calling child method\n",
      "Calling parent method\n",
      "Parent attribute : 200\n"
     ]
    }
   ],
   "source": [
    "class Parent:        # define parent class\n",
    "   parentAttr = 100\n",
    "   def __init__(self):\n",
    "      print (\"Calling parent constructor\")\n",
    "\n",
    "   def parentMethod(self):\n",
    "      print ('Calling parent method')\n",
    "\n",
    "   def setAttr(self, attr):\n",
    "      Parent.parentAttr = attr\n",
    "\n",
    "   def getAttr(self):\n",
    "      print (\"Parent attribute :\", Parent.parentAttr)\n",
    "\n",
    "class Child(Parent): # define child class\n",
    "   def __init__(self):\n",
    "      print (\"Calling child constructor\")\n",
    "\n",
    "   def childMethod(self):\n",
    "      print ('Calling child method')\n",
    "\n",
    "c = Child()          # instance of child\n",
    "c.childMethod()      # child calls its method\n",
    "c.parentMethod()     # calls parent's method\n",
    "c.setAttr(200)       # again call parent's method\n",
    "c.getAttr()          # again call parent's method"
   ]
  },
  {
   "cell_type": "code",
   "execution_count": null,
   "metadata": {
    "colab": {
     "base_uri": "https://localhost:8080/"
    },
    "id": "OKYlLgzbdV8M",
    "outputId": "b4a1d662-89bf-4297-f93c-47c5e05f8111"
   },
   "outputs": [
    {
     "name": "stdout",
     "output_type": "stream",
     "text": [
      "Calling child method\n"
     ]
    }
   ],
   "source": [
    "# Overriding Methods\n",
    "# overriding parent's methods is because you may want special or different functionality in your subclass.\n",
    "class Parent:        # define parent class\n",
    "   def myMethod(self):\n",
    "      print ('Calling parent method')\n",
    "\n",
    "class Child(Parent): # define child class\n",
    "   def myMethod(self):\n",
    "      print ('Calling child method')\n",
    "\n",
    "c = Child()          # instance of child\n",
    "c.myMethod()         # child calls overridden method"
   ]
  },
  {
   "cell_type": "code",
   "execution_count": null,
   "metadata": {
    "colab": {
     "base_uri": "https://localhost:8080/"
    },
    "id": "W7_NzG5-dpir",
    "outputId": "823fd9f0-5fc1-4888-84d7-3d2099c74ee7"
   },
   "outputs": [
    {
     "data": {
      "text/plain": [
       "__main__.Parent"
      ]
     },
     "execution_count": 53,
     "metadata": {
      "tags": []
     },
     "output_type": "execute_result"
    }
   ],
   "source": [
    "Child.__base__"
   ]
  },
  {
   "cell_type": "code",
   "execution_count": null,
   "metadata": {
    "colab": {
     "base_uri": "https://localhost:8080/"
    },
    "id": "RR8TvWg3d3qT",
    "outputId": "0849cc37-8b2b-4b52-a424-eb884ba1891e"
   },
   "outputs": [
    {
     "data": {
      "text/plain": [
       "(__main__.Parent,)"
      ]
     },
     "execution_count": 58,
     "metadata": {
      "tags": []
     },
     "output_type": "execute_result"
    }
   ],
   "source": [
    "Child.__bases__"
   ]
  },
  {
   "cell_type": "code",
   "execution_count": 4,
   "metadata": {
    "id": "LRvmQMuBeQsc"
   },
   "outputs": [],
   "source": [
    "# Go read \"Base Overloading Methods\" and \"Overloading Operators\" in the attached pdf"
   ]
  },
  {
   "cell_type": "markdown",
   "metadata": {},
   "source": [
    "## **Read more!** [Overloading Operators](https://www.tutorialspoint.com/python/python_classes_objects.htm)"
   ]
  },
  {
   "cell_type": "code",
   "execution_count": null,
   "metadata": {
    "colab": {
     "base_uri": "https://localhost:8080/"
    },
    "id": "bCjlY9yHeeO8",
    "outputId": "96791291-c707-4364-8a33-b255c4374ca2"
   },
   "outputs": [
    {
     "name": "stdout",
     "output_type": "stream",
     "text": [
      "Vector (7, 8)\n"
     ]
    }
   ],
   "source": [
    "class Vector:\n",
    "   def __init__(self, a, b):\n",
    "      self.a = a\n",
    "      self.b = b\n",
    "\n",
    "   def __str__(self):\n",
    "      return 'Vector (%d, %d)' % (self.a, self.b)\n",
    "   \n",
    "   def __add__(self,other):\n",
    "      return Vector(self.a + other.a, self.b + other.b)\n",
    "\n",
    "v1 = Vector(2,10)\n",
    "v2 = Vector(5,-2)\n",
    "print(v1 + v2)"
   ]
  },
  {
   "cell_type": "code",
   "execution_count": null,
   "metadata": {
    "colab": {
     "base_uri": "https://localhost:8080/"
    },
    "id": "nRWzR5Q_fcmx",
    "outputId": "3ac47f7e-b677-477d-cf1d-54f3adb83757"
   },
   "outputs": [
    {
     "name": "stdout",
     "output_type": "stream",
     "text": [
      "1\n",
      "2\n",
      "I'm callable only from inside\n"
     ]
    }
   ],
   "source": [
    "# Data Hiding\n",
    "class JustCounter:\n",
    "   __secretCount = 0\n",
    "  \n",
    "   def count(self):\n",
    "      self.__secretCount += 1\n",
    "      print(self.__secretCount)\n",
    "\n",
    "   def __privMeth(self):\n",
    "      print(\"I'm callable only from inside\")\n",
    "\n",
    "   def printme(self):\n",
    "     self.__privMeth()\n",
    "\n",
    "counter = JustCounter()\n",
    "counter.count()\n",
    "counter.count()\n",
    "counter.printme()"
   ]
  },
  {
   "cell_type": "code",
   "execution_count": null,
   "metadata": {
    "colab": {
     "base_uri": "https://localhost:8080/",
     "height": 163
    },
    "id": "KPxxCh14gd1J",
    "outputId": "8909c89e-4849-40df-cbf9-665101b1794d"
   },
   "outputs": [
    {
     "ename": "AttributeError",
     "evalue": "ignored",
     "output_type": "error",
     "traceback": [
      "\u001b[0;31m---------------------------------------------------------------------------\u001b[0m",
      "\u001b[0;31mAttributeError\u001b[0m                            Traceback (most recent call last)",
      "\u001b[0;32m<ipython-input-70-ade6269e7039>\u001b[0m in \u001b[0;36m<module>\u001b[0;34m()\u001b[0m\n\u001b[0;32m----> 1\u001b[0;31m \u001b[0mcounter\u001b[0m\u001b[0;34m.\u001b[0m\u001b[0m__privMeth\u001b[0m\u001b[0;34m(\u001b[0m\u001b[0;34m)\u001b[0m\u001b[0;34m\u001b[0m\u001b[0;34m\u001b[0m\u001b[0m\n\u001b[0m",
      "\u001b[0;31mAttributeError\u001b[0m: 'JustCounter' object has no attribute '__privMeth'"
     ]
    }
   ],
   "source": [
    "counter.__privMeth()"
   ]
  },
  {
   "cell_type": "code",
   "execution_count": null,
   "metadata": {
    "colab": {
     "base_uri": "https://localhost:8080/",
     "height": 163
    },
    "id": "GkdjGxVRgjYr",
    "outputId": "9849bae9-ab90-4104-8cf4-5d929fc69182"
   },
   "outputs": [
    {
     "ename": "AttributeError",
     "evalue": "ignored",
     "output_type": "error",
     "traceback": [
      "\u001b[0;31m---------------------------------------------------------------------------\u001b[0m",
      "\u001b[0;31mAttributeError\u001b[0m                            Traceback (most recent call last)",
      "\u001b[0;32m<ipython-input-72-7aced26a4181>\u001b[0m in \u001b[0;36m<module>\u001b[0;34m()\u001b[0m\n\u001b[0;32m----> 1\u001b[0;31m \u001b[0mprint\u001b[0m\u001b[0;34m(\u001b[0m\u001b[0mcounter\u001b[0m\u001b[0;34m.\u001b[0m\u001b[0m__secretCount\u001b[0m\u001b[0;34m)\u001b[0m\u001b[0;34m\u001b[0m\u001b[0;34m\u001b[0m\u001b[0m\n\u001b[0m",
      "\u001b[0;31mAttributeError\u001b[0m: 'JustCounter' object has no attribute '__secretCount'"
     ]
    }
   ],
   "source": [
    "print(counter.__secretCount)"
   ]
  },
  {
   "cell_type": "markdown",
   "metadata": {
    "id": "9WivpIPQuCWl"
   },
   "source": [
    "# Class Polymorphism in Python"
   ]
  },
  {
   "cell_type": "code",
   "execution_count": null,
   "metadata": {
    "colab": {
     "base_uri": "https://localhost:8080/"
    },
    "id": "MDzkDHUNuBhd",
    "outputId": "363aa378-a3b2-4a8e-aff5-53c211ff42a5"
   },
   "outputs": [
    {
     "name": "stdout",
     "output_type": "stream",
     "text": [
      "I am a cat. My name is Kitty. I am 2.5 years old.\n",
      "Meow\n",
      "I am a dog. My name is Fluffy. I am 4 years old.\n",
      "Bark\n"
     ]
    }
   ],
   "source": [
    "class Cat:\n",
    "    def __init__(self, name, age):\n",
    "        self.name = name\n",
    "        self.age = age\n",
    "\n",
    "    def info(self):\n",
    "        print(f\"I am a cat. My name is {self.name}. I am {self.age} years old.\")\n",
    "\n",
    "    def make_sound(self):\n",
    "        print(\"Meow\")\n",
    "\n",
    "\n",
    "class Dog:\n",
    "    def __init__(self, name, age):\n",
    "        self.name = name\n",
    "        self.age = age\n",
    "\n",
    "    def info(self):\n",
    "        print(f\"I am a dog. My name is {self.name}. I am {self.age} years old.\")\n",
    "\n",
    "    def make_sound(self):\n",
    "        print(\"Bark\")\n",
    "\n",
    "\n",
    "cat1 = Cat(\"Kitty\", 2.5)\n",
    "dog1 = Dog(\"Fluffy\", 4)\n",
    "\n",
    "for animal in (cat1, dog1):\n",
    "    animal.info()\n",
    "    animal.make_sound()"
   ]
  },
  {
   "cell_type": "markdown",
   "metadata": {
    "id": "-tDOJ0w0uLar"
   },
   "source": [
    "## Using supertype constractor "
   ]
  },
  {
   "cell_type": "code",
   "execution_count": null,
   "metadata": {
    "colab": {
     "base_uri": "https://localhost:8080/"
    },
    "id": "HsZDlSwevBNH",
    "outputId": "340707ec-d161-48db-d567-e71da24e77da"
   },
   "outputs": [
    {
     "name": "stdout",
     "output_type": "stream",
     "text": [
      "Circle\n",
      "I am a two-dimensional shape.\n",
      "153.93804002589985\n",
      "Squares have each angle equal to 90 degrees.\n"
     ]
    }
   ],
   "source": [
    "from math import pi\n",
    "\n",
    "\n",
    "class Shape:\n",
    "    def __init__(self, name):\n",
    "        self.name = name\n",
    "\n",
    "    def area(self):\n",
    "        pass\n",
    "\n",
    "    def fact(self):\n",
    "        return \"I am a two-dimensional shape.\"\n",
    "\n",
    "    def __str__(self):\n",
    "        return self.name\n",
    "\n",
    "\n",
    "class Square(Shape):\n",
    "    def __init__(self, length):\n",
    "        super().__init__(\"Square\")\n",
    "        self.length = length\n",
    "\n",
    "    def area(self):\n",
    "        return self.length**2\n",
    "\n",
    "    def fact(self):\n",
    "        return \"Squares have each angle equal to 90 degrees.\"\n",
    "\n",
    "\n",
    "class Circle(Shape):\n",
    "    def __init__(self, radius):\n",
    "        super().__init__(\"Circle\")\n",
    "        self.radius = radius\n",
    "\n",
    "    def area(self):\n",
    "        return pi*self.radius**2\n",
    "\n",
    "\n",
    "a = Square(4)\n",
    "b = Circle(7)\n",
    "print(b)\n",
    "print(b.fact())\n",
    "print(b.area())\n",
    "print(a.fact())"
   ]
  },
  {
   "cell_type": "markdown",
   "metadata": {
    "id": "NAxAzqCMxgcy"
   },
   "source": [
    "## **Read more!** [super() with multiple inheritance](https://realpython.com/python-super/#super-in-multiple-inheritance)"
   ]
  },
  {
   "cell_type": "markdown",
   "metadata": {
    "id": "48UdQ9h62VnM"
   },
   "source": [
    "# Exercises\n",
    "\n",
    "## 1. Answer the following questions in concise and explainable way\n",
    "* What is the dynamic Programming?\n",
    "* Define dynamic languages? Is Python a dynamic language?\n",
    "* What is Functional Programming? and define functional languages?\n",
    "* Is Object-oriented programming imperative paradigm or declarative paradigm? Why?\n",
    "* What is the competitive programming?\n",
    "* Is Programming Language == Programming Paradigm ?\n",
    "\n",
    "\n",
    "## 2. Apply all the discussed OOP concepts in python."
   ]
  },
  {
   "cell_type": "code",
   "execution_count": null,
   "metadata": {
    "id": "l_-hstNh2a7M"
   },
   "outputs": [],
   "source": []
  }
 ],
 "metadata": {
  "colab": {
   "collapsed_sections": [],
   "name": "02- OOP.ipynb",
   "provenance": []
  },
  "kernelspec": {
   "display_name": "Python 3",
   "language": "python",
   "name": "python3"
  },
  "language_info": {
   "codemirror_mode": {
    "name": "ipython",
    "version": 3
   },
   "file_extension": ".py",
   "mimetype": "text/x-python",
   "name": "python",
   "nbconvert_exporter": "python",
   "pygments_lexer": "ipython3",
   "version": "3.8.5"
  }
 },
 "nbformat": 4,
 "nbformat_minor": 1
}
